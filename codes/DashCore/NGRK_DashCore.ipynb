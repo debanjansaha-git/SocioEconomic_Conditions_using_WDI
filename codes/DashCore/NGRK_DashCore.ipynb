{
  "nbformat": 4,
  "nbformat_minor": 0,
  "metadata": {
    "colab": {
      "provenance": []
    },
    "kernelspec": {
      "name": "python3",
      "display_name": "Python 3"
    },
    "language_info": {
      "name": "python"
    }
  },
  "cells": [
    {
      "cell_type": "code",
      "source": [
        "\n",
        "from urllib import request"
      ],
      "metadata": {
        "id": "6y8kB3nFJQWd"
      },
      "execution_count": 14,
      "outputs": []
    },
    {
      "cell_type": "code",
      "execution_count": 15,
      "metadata": {
        "colab": {
          "base_uri": "https://localhost:8080/"
        },
        "id": "QVCk6WUJJI-Q",
        "outputId": "c5e26067-504b-4316-f111-cd8d137df38b"
      },
      "outputs": [
        {
          "output_type": "stream",
          "name": "stdout",
          "text": [
            "Looking in indexes: https://pypi.org/simple, https://us-python.pkg.dev/colab-wheels/public/simple/\n",
            "Requirement already satisfied: dash in /usr/local/lib/python3.8/dist-packages (2.7.1)\n",
            "Requirement already satisfied: Flask>=1.0.4 in /usr/local/lib/python3.8/dist-packages (from dash) (1.1.4)\n",
            "Requirement already satisfied: dash-core-components==2.0.0 in /usr/local/lib/python3.8/dist-packages (from dash) (2.0.0)\n",
            "Requirement already satisfied: dash-html-components==2.0.0 in /usr/local/lib/python3.8/dist-packages (from dash) (2.0.0)\n",
            "Requirement already satisfied: plotly>=5.0.0 in /usr/local/lib/python3.8/dist-packages (from dash) (5.5.0)\n",
            "Requirement already satisfied: dash-table==5.0.0 in /usr/local/lib/python3.8/dist-packages (from dash) (5.0.0)\n",
            "Requirement already satisfied: click<8.0,>=5.1 in /usr/local/lib/python3.8/dist-packages (from Flask>=1.0.4->dash) (7.1.2)\n",
            "Requirement already satisfied: itsdangerous<2.0,>=0.24 in /usr/local/lib/python3.8/dist-packages (from Flask>=1.0.4->dash) (1.1.0)\n",
            "Requirement already satisfied: Werkzeug<2.0,>=0.15 in /usr/local/lib/python3.8/dist-packages (from Flask>=1.0.4->dash) (1.0.1)\n",
            "Requirement already satisfied: Jinja2<3.0,>=2.10.1 in /usr/local/lib/python3.8/dist-packages (from Flask>=1.0.4->dash) (2.11.3)\n",
            "Requirement already satisfied: MarkupSafe>=0.23 in /usr/local/lib/python3.8/dist-packages (from Jinja2<3.0,>=2.10.1->Flask>=1.0.4->dash) (2.0.1)\n",
            "Requirement already satisfied: six in /usr/local/lib/python3.8/dist-packages (from plotly>=5.0.0->dash) (1.15.0)\n",
            "Requirement already satisfied: tenacity>=6.2.0 in /usr/local/lib/python3.8/dist-packages (from plotly>=5.0.0->dash) (8.1.0)\n",
            "Looking in indexes: https://pypi.org/simple, https://us-python.pkg.dev/colab-wheels/public/simple/\n",
            "Requirement already satisfied: world_bank_data in /usr/local/lib/python3.8/dist-packages (0.1.3)\n",
            "Requirement already satisfied: pandas in /usr/local/lib/python3.8/dist-packages (from world_bank_data) (1.3.5)\n",
            "Requirement already satisfied: cachetools in /usr/local/lib/python3.8/dist-packages (from world_bank_data) (5.2.0)\n",
            "Requirement already satisfied: requests in /usr/local/lib/python3.8/dist-packages (from world_bank_data) (2.23.0)\n",
            "Requirement already satisfied: numpy>=1.17.3 in /usr/local/lib/python3.8/dist-packages (from pandas->world_bank_data) (1.21.6)\n",
            "Requirement already satisfied: python-dateutil>=2.7.3 in /usr/local/lib/python3.8/dist-packages (from pandas->world_bank_data) (2.8.2)\n",
            "Requirement already satisfied: pytz>=2017.3 in /usr/local/lib/python3.8/dist-packages (from pandas->world_bank_data) (2022.6)\n",
            "Requirement already satisfied: six>=1.5 in /usr/local/lib/python3.8/dist-packages (from python-dateutil>=2.7.3->pandas->world_bank_data) (1.15.0)\n",
            "Requirement already satisfied: urllib3!=1.25.0,!=1.25.1,<1.26,>=1.21.1 in /usr/local/lib/python3.8/dist-packages (from requests->world_bank_data) (1.24.3)\n",
            "Requirement already satisfied: idna<3,>=2.5 in /usr/local/lib/python3.8/dist-packages (from requests->world_bank_data) (2.10)\n",
            "Requirement already satisfied: certifi>=2017.4.17 in /usr/local/lib/python3.8/dist-packages (from requests->world_bank_data) (2022.9.24)\n",
            "Requirement already satisfied: chardet<4,>=3.0.2 in /usr/local/lib/python3.8/dist-packages (from requests->world_bank_data) (3.0.4)\n"
          ]
        }
      ],
      "source": [
        "%%sh\n",
        "pip install dash --upgrade\n",
        "pip install -q dash_core_components\n",
        "pip install -q dash_html_components\n",
        "pip install -q dash_table\n",
        "pip install world_bank_data --upgrade"
      ]
    },
    {
      "cell_type": "code",
      "source": [
        "# get ngrok\n",
        "!curl -O https://bin.equinox.io/c/4VmDzA7iaHb/ngrok-stable-linux-amd64.zip\n",
        "!unzip ngrok-stable-linux-amd64.zip"
      ],
      "metadata": {
        "colab": {
          "base_uri": "https://localhost:8080/"
        },
        "id": "mPEdxUzfJMa_",
        "outputId": "14a2458b-481e-457d-f106-215355ce5bb4"
      },
      "execution_count": 16,
      "outputs": [
        {
          "output_type": "stream",
          "name": "stdout",
          "text": [
            "  % Total    % Received % Xferd  Average Speed   Time    Time     Time  Current\n",
            "                                 Dload  Upload   Total   Spent    Left  Speed\n",
            "100 13.1M  100 13.1M    0     0  22.2M      0 --:--:-- --:--:-- --:--:-- 22.2M\n",
            "Archive:  ngrok-stable-linux-amd64.zip\n",
            "replace ngrok? [y]es, [n]o, [A]ll, [N]one, [r]ename: y\n",
            "  inflating: ngrok                   \n"
          ]
        }
      ]
    },
    {
      "cell_type": "code",
      "source": [
        "%%sh\n",
        "./ngrok authtoken 2GjxcYtzq6xj9Ubf4t34QQQ2Sh7_9ojiB72BuPpZWBCmoXDg\n"
      ],
      "metadata": {
        "colab": {
          "base_uri": "https://localhost:8080/"
        },
        "id": "hXwsiE7dJQSY",
        "outputId": "116d9ad2-2c9e-4381-ee4c-76256f8841c0"
      },
      "execution_count": 17,
      "outputs": [
        {
          "output_type": "stream",
          "name": "stdout",
          "text": [
            "Authtoken saved to configuration file: /root/.ngrok2/ngrok.yml\n"
          ]
        }
      ]
    },
    {
      "cell_type": "code",
      "source": [
        "%%writefile dash_app.py\n",
        "\n",
        "import numpy as np\n",
        "import pandas as pd\n",
        "import plotly.express as px\n",
        "from dash import Dash, dcc, html, Input, Output\n",
        "import world_bank_data as wb\n",
        "\n",
        "parent_dir = 'https://raw.githubusercontent.com/debanjansaha-git/Deb-NEU-DataAnalytics-Fall22/main/InflationRecession/'\n",
        "df = pd.read_csv(parent_dir + 'Data/Cleaned_Data_more_countries.csv', index_col=0)\n",
        "ind_file = pd.read_csv(parent_dir + 'World%20Bank%20Selected%20Indicators%20-%20Sheet1.csv')\n",
        "indicators = list(ind_file['Indicator Code'].dropna())\n",
        "indicator = [{'label': ind, 'value': ind} for ind in indicators]\n",
        "countries = wb.get_countries()\n",
        "df2 = df.merge(countries, \n",
        "               left_on='level_0', \n",
        "               right_on='id',\n",
        "               how='left')\n",
        "df_hvg = pd.read_csv(parent_dir + '/Data/hvg_data.csv')\n",
        "df_nvg = pd.read_csv(parent_dir + '/Data/nvg_data.csv')\n",
        "ml_pred = pd.read_csv(parent_dir + '/Data/ML_Clustered_Output.csv')\n",
        "\n",
        "\n",
        "scl = [ [0,\"rgb(5, 10, 172)\"],[0.35,\"rgb(40, 60, 190)\"],[0.5,\"rgb(70, 100, 245)\"],\\\n",
        "    [0.6,\"rgb(90, 120, 245)\"],[0.7,\"rgb(106, 137, 247)\"],[1,\"rgb(220, 220, 220)\"] ]\n",
        "\n",
        "# Colors\n",
        "colors = {\n",
        "    'background': '#2f9fb3',\n",
        "    'graph_bg'  : '#aef6f7',\n",
        "    'title'     : '#f9f8f3',\n",
        "    'text'      : '#7a4d4a',\n",
        "    }\n",
        "\n",
        "app = Dash(__name__)\n",
        "\n",
        "app.layout = html.Div([    \n",
        "    # Header\n",
        "        html.Div([], className = 'col-0'), \n",
        "\n",
        "        html.Div([\n",
        "            html.H1(children='Socio-Economic Visualization with World Bank Indicators',\n",
        "                    style = {'textAlign' : 'center', \n",
        "                            'color' : colors['title'],\n",
        "                            'font-family': 'Helvetica'}\n",
        "            )],\n",
        "            className='col-1',\n",
        "            style = {'padding-top' : '1%'}\n",
        "        ),\n",
        "\n",
        "        html.Div([\n",
        "            html.H2(children='Select Indicator',\n",
        "            style = {'text-align' : 'left', 'color' : colors['text']}),\n",
        "            # Dropdown\n",
        "            html.Div([\n",
        "            dcc.Dropdown(\n",
        "                id='overlay_choice',\n",
        "                options=indicator,\n",
        "                value='NY.GDP.MKTP.KD.ZG',\n",
        "                style = {'font-family': 'Helvetica',\n",
        "                        'font-size': '13px', \n",
        "                        'color' : colors['text'], \n",
        "                        'white-space': 'nowrap', \n",
        "                        'text-overflow': 'ellipsis'}\n",
        "                ),\n",
        "            ],style =  {'width' : '30%', \n",
        "                        'margin-top' : '5px', \n",
        "                        'margin-bottom' : '5px', \n",
        "                        'text-align' : 'left', \n",
        "                        'paddingLeft': 5,\n",
        "                        'color' : colors['graph_bg']}),\n",
        "        ], style = {'margin-top' : '5px', \n",
        "                    'margin-bottom' : '5px', \n",
        "                    'text-align' : 'left', \n",
        "                    'paddingLeft': 25}\n",
        "        ),\n",
        "\n",
        "        html.Div([\n",
        "            # World Map Graph\n",
        "            dcc.Graph(\n",
        "                id='graph1',\n",
        "                figure={\n",
        "                    'layout': {\n",
        "                        'plot_bgcolor': colors['graph_bg'],\n",
        "                        'paper_bgcolor': colors['background'],\n",
        "                        'font': {\n",
        "                            'color': colors['text']}\n",
        "                        }\n",
        "                }),\n",
        "        ], style = {'margin-top' : '15px', \n",
        "                    'margin-bottom' : '15px', \n",
        "                    'text-align' : 'left', \n",
        "                    'paddingLeft': 50,\n",
        "                    'paddingRight': 50,\n",
        "                    'background-color' : colors['background']}\n",
        "        ),\n",
        "        html.Div([\n",
        "            # Slider\n",
        "            dcc.Slider(\n",
        "                df2['level_1'].min(),\n",
        "                df2['level_1'].max(),\n",
        "                id='year_slider',\n",
        "                step=None,\n",
        "                value=df2['level_1'].min(),\n",
        "                marks={str(level_1): str(level_1) for level_1 in df2['level_1'].unique()}\n",
        "                \n",
        "            ),\n",
        "        ], style = {'margin-top' : '15px', \n",
        "                    'margin-bottom' : '15px', \n",
        "                    'text-align' : 'left', \n",
        "                    'paddingLeft': 50,\n",
        "                    'paddingRight': 50,\n",
        "                    'background-color' : colors['background']}\n",
        "        ),\n",
        "\n",
        "        html.Div([\n",
        "            html.Div([\n",
        "                html.H2(children='Visibility Graph Network',\n",
        "                style = {'text-align' : 'left', 'paddingLeft': 25, 'color' : colors['text']}),\n",
        "            ], className = 'col-2'), \n",
        "            # HVG & NVG Scatter Plots\n",
        "            html.Div([dcc.Graph(id='graph_hvg')], \n",
        "                        style = {'margin-top' : '5px', \n",
        "                            'margin-bottom' : '5px', \n",
        "                            'text-align' : 'left', \n",
        "                            'paddingLeft': 50,\n",
        "                            'paddingRight': 50,\n",
        "                            'background-color' : colors['background']}),\n",
        "            html.Div([dcc.Graph(id='graph_nvg')], \n",
        "                        style = {'margin-top' : '5px', \n",
        "                            'margin-bottom' : '5px', \n",
        "                            'text-align' : 'left', \n",
        "                            'paddingLeft': 50,\n",
        "                            'paddingRight': 50,\n",
        "                            'background-color' : colors['background']}),\n",
        "            \n",
        "            \n",
        "        ], style = {'margin-top' : '5px', \n",
        "                    'margin-bottom' : '5px', \n",
        "                    'text-align' : 'left', \n",
        "                    'background-color' : colors['background']}\n",
        "        ),\n",
        "\n",
        "        html.Div([\n",
        "            html.H2(children='Clusters of Economies',\n",
        "            style = {'text-align' : 'left', 'color' : colors['text']}),\n",
        "            # Predicted Clusters\n",
        "            dcc.Graph(\n",
        "                id='graph_clust',\n",
        "                figure={\n",
        "                    'layout': {\n",
        "                        'plot_bgcolor': colors['graph_bg'],\n",
        "                        'paper_bgcolor': colors['background'],\n",
        "                        'font': {\n",
        "                            'color': colors['text']}\n",
        "                        }\n",
        "                }),\n",
        "        ], style = {'margin-top' : '15px', \n",
        "                    'margin-bottom' : '15px', \n",
        "                    'text-align' : 'left', \n",
        "                    'paddingLeft': 50,\n",
        "                    'paddingRight': 50,\n",
        "                    'background-color' : colors['background']}\n",
        "        ),\n",
        "        \n",
        "    ],\n",
        "    className = 'col-2',\n",
        "    style = {'paddingLeft': 10,\n",
        "            'paddingRight': 10,\n",
        "            'background-color' : colors['background']}\n",
        "    )\n",
        "\n",
        "### Callback\n",
        "@app.callback(\n",
        "    [Output('graph1', 'figure'),\n",
        "     Output('graph_hvg', 'figure'),\n",
        "     Output('graph_nvg', 'figure'),\n",
        "     Output('graph_clust', 'figure'),\n",
        "     ],\n",
        "    [Input('overlay_choice', 'value'),\n",
        "     Input('year_slider', 'value'),\n",
        "     ])\n",
        "def update_figure(overlay_choice, year_slider):\n",
        "    filtered_df = df2.loc[df2['level_1'] == year_slider, ['level_0','level_1','iso2Code','name','region','longitude','latitude',overlay_choice]]\n",
        "    df_hvg_indicator = df_hvg[df_hvg['indicator code'] == overlay_choice]\n",
        "    df_nvg_indicator = df_nvg[df_nvg['indicator code'] == overlay_choice]\n",
        "\n",
        "    # plot map\n",
        "    fig1 = px.choropleth(filtered_df, \n",
        "                        locations='level_0',\n",
        "                        locationmode = 'ISO-3',\n",
        "                        scope='world',\n",
        "                        color=overlay_choice,\n",
        "                        hover_name='name',\n",
        "                        color_continuous_scale=px.colors.sequential.Viridis,\n",
        "                        animation_frame='level_1',\n",
        "                        title='Indicator Distribution in World Map'\n",
        "                        )\n",
        "    fig1.update_layout(margin={\"r\":0,\"t\":0,\"l\":0,\"b\":0})\n",
        "    \n",
        "    # scatter plot HVG\n",
        "    fig2 = px.scatter(df_hvg_indicator, x=\"Average degree\", y=\"Average path length\", color='country',\n",
        "                    size='Network diameter', hover_data=['Network diameter'],\n",
        "                    title='Horizontal Visibility Graph by Countries')\n",
        "\n",
        "    # scatter plot NVG\n",
        "    fig3 = px.scatter(df_nvg_indicator, x=\"Average degree\", y=\"Average path length\", color='country',\n",
        "                 size='Network diameter', hover_data=['Network diameter'],\n",
        "                 title='Natural Visibility Graph by Countries')\n",
        "\n",
        "    # plot clusters of data\n",
        "    fig4 = px.choropleth(ml_pred, locations=\"level_0\",\n",
        "                    color=\"cluster_grp\", \n",
        "                    hover_name=\"level_0\",\n",
        "                    color_continuous_scale=px.colors.sequential.Magma,\n",
        "                    )\n",
        "    fig4.update_layout(margin={\"r\":0,\"t\":0,\"l\":0,\"b\":0})\n",
        "\n",
        "\n",
        "    # return the 3 graph objects\n",
        "    return fig1, fig2, fig3, fig4\n",
        "\n",
        "\n",
        "if __name__ == '__main__':\n",
        "    app.run_server(debug=True)"
      ],
      "metadata": {
        "colab": {
          "base_uri": "https://localhost:8080/"
        },
        "id": "N8JACVdFuuvZ",
        "outputId": "f5280199-b2dd-40fe-c619-f34eb26aff59"
      },
      "execution_count": 18,
      "outputs": [
        {
          "output_type": "stream",
          "name": "stdout",
          "text": [
            "Overwriting dash_app.py\n"
          ]
        }
      ]
    },
    {
      "cell_type": "code",
      "source": [
        "# launch ngrok\n",
        "get_ipython().system_raw('./ngrok http 8050 &')"
      ],
      "metadata": {
        "id": "r4QEliFAJQM9"
      },
      "execution_count": 19,
      "outputs": []
    },
    {
      "cell_type": "code",
      "source": [
        "%%sh\n",
        "curl -s http://localhost:4040/api/tunnels | python3 -c \"import sys, json; print(json.load(sys.stdin)['tunnels'][0]['public_url'])\""
      ],
      "metadata": {
        "colab": {
          "base_uri": "https://localhost:8080/"
        },
        "id": "lFJyRWQyJaC9",
        "outputId": "5e08fab5-79d0-4f7d-cbf7-cf938e13bbef"
      },
      "execution_count": 21,
      "outputs": [
        {
          "output_type": "stream",
          "name": "stdout",
          "text": [
            "https://4e82-35-192-118-210.ngrok.io\n"
          ]
        }
      ]
    },
    {
      "cell_type": "code",
      "source": [
        "!python dash_app.py"
      ],
      "metadata": {
        "colab": {
          "base_uri": "https://localhost:8080/"
        },
        "id": "eS7FXQwyJcDu",
        "outputId": "b893446d-967f-4a30-f571-544352643b0f"
      },
      "execution_count": null,
      "outputs": [
        {
          "output_type": "stream",
          "name": "stdout",
          "text": [
            "Dash is running on http://127.0.0.1:8050/\n",
            "\n",
            " * Serving Flask app \"dash_app\" (lazy loading)\n",
            " * Environment: production\n",
            "\u001b[31m   WARNING: This is a development server. Do not use it in a production deployment.\u001b[0m\n",
            "\u001b[2m   Use a production WSGI server instead.\u001b[0m\n",
            " * Debug mode: on\n"
          ]
        }
      ]
    },
    {
      "cell_type": "code",
      "source": [],
      "metadata": {
        "id": "K4b9rcTXJehd"
      },
      "execution_count": null,
      "outputs": []
    }
  ]
}